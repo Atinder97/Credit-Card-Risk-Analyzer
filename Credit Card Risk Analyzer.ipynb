{
 "cells": [
  {
   "cell_type": "code",
   "execution_count": 31,
   "metadata": {},
   "outputs": [],
   "source": [
    "import pandas as pd\n",
    "import numpy as np\n",
    "from sklearn.model_selection import train_test_split\n",
    "from sklearn.tree import DecisionTreeClassifier\n",
    "from sklearn.metrics import accuracy_score\n",
    "import warnings"
   ]
  },
  {
   "cell_type": "code",
   "execution_count": 32,
   "metadata": {},
   "outputs": [],
   "source": [
    "fp = \"H:/ML Projects/credit_data.csv\"\n",
    "data = pd.read_csv(fp , sep=\",\")"
   ]
  },
  {
   "cell_type": "code",
   "execution_count": 33,
   "metadata": {},
   "outputs": [
    {
     "name": "stdout",
     "output_type": "stream",
     "text": [
      "[19 18 29 26 28 24 21 20 22 27 25 23 30 32 41 38 62 34 63 33 61 46 31 42\n",
      " 50 39 36 60 37 47 43 51 49 45 44 48 58 35 59 56 40 54 55 57 64 52 53]\n",
      "['Male' 'Female']\n",
      "['Graduate' 'Under Graduate' 'Post Graduate' 'Other']\n",
      "['Professional' 'Salaried' 'Student' 'Business']\n",
      "['None' 'Tier 3' 'Tier 2' 'Tier 1']\n",
      "['None' 'Entry' 'Mid-level 1' 'Junior' 'Mid-level 2' 'Senior']\n",
      "[186319 277022 348676 ... 333840 306053 385157]\n",
      "[21625 20442 24404 ... 46779 43751 32684]\n",
      "['Family' 'Rented' 'Company provided' 'Owned']\n",
      "['None' 'Two Wheeler' 'Four Wheeler']\n",
      "['Married' 'Single' 'Other']\n",
      "[0 1 2]\n",
      "[1 0]\n"
     ]
    }
   ],
   "source": [
    "\"To get unique categories for various columns\"\n",
    "\n",
    "for col in data:\n",
    "    print(data[col].unique())"
   ]
  },
  {
   "cell_type": "code",
   "execution_count": 34,
   "metadata": {},
   "outputs": [
    {
     "data": {
      "text/html": [
       "<div>\n",
       "<style scoped>\n",
       "    .dataframe tbody tr th:only-of-type {\n",
       "        vertical-align: middle;\n",
       "    }\n",
       "\n",
       "    .dataframe tbody tr th {\n",
       "        vertical-align: top;\n",
       "    }\n",
       "\n",
       "    .dataframe thead th {\n",
       "        text-align: right;\n",
       "    }\n",
       "</style>\n",
       "<table border=\"1\" class=\"dataframe\">\n",
       "  <thead>\n",
       "    <tr style=\"text-align: right;\">\n",
       "      <th></th>\n",
       "      <th>age</th>\n",
       "      <th>gender</th>\n",
       "      <th>education</th>\n",
       "      <th>occupation</th>\n",
       "      <th>organization_type</th>\n",
       "      <th>seniority</th>\n",
       "      <th>annual_income</th>\n",
       "      <th>disposable_income</th>\n",
       "      <th>house_type</th>\n",
       "      <th>vehicle_type</th>\n",
       "      <th>marital_status</th>\n",
       "      <th>no_card</th>\n",
       "      <th>default</th>\n",
       "    </tr>\n",
       "  </thead>\n",
       "  <tbody>\n",
       "    <tr>\n",
       "      <th>0</th>\n",
       "      <td>19</td>\n",
       "      <td>0</td>\n",
       "      <td>0</td>\n",
       "      <td>0</td>\n",
       "      <td>0</td>\n",
       "      <td>0</td>\n",
       "      <td>186319</td>\n",
       "      <td>21625</td>\n",
       "      <td>0</td>\n",
       "      <td>0</td>\n",
       "      <td>1</td>\n",
       "      <td>0</td>\n",
       "      <td>1</td>\n",
       "    </tr>\n",
       "    <tr>\n",
       "      <th>1</th>\n",
       "      <td>18</td>\n",
       "      <td>0</td>\n",
       "      <td>1</td>\n",
       "      <td>0</td>\n",
       "      <td>0</td>\n",
       "      <td>0</td>\n",
       "      <td>277022</td>\n",
       "      <td>20442</td>\n",
       "      <td>1</td>\n",
       "      <td>0</td>\n",
       "      <td>1</td>\n",
       "      <td>0</td>\n",
       "      <td>1</td>\n",
       "    </tr>\n",
       "    <tr>\n",
       "      <th>2</th>\n",
       "      <td>29</td>\n",
       "      <td>0</td>\n",
       "      <td>1</td>\n",
       "      <td>1</td>\n",
       "      <td>0</td>\n",
       "      <td>1</td>\n",
       "      <td>348676</td>\n",
       "      <td>24404</td>\n",
       "      <td>1</td>\n",
       "      <td>0</td>\n",
       "      <td>1</td>\n",
       "      <td>1</td>\n",
       "      <td>1</td>\n",
       "    </tr>\n",
       "    <tr>\n",
       "      <th>3</th>\n",
       "      <td>18</td>\n",
       "      <td>0</td>\n",
       "      <td>0</td>\n",
       "      <td>2</td>\n",
       "      <td>0</td>\n",
       "      <td>0</td>\n",
       "      <td>165041</td>\n",
       "      <td>2533</td>\n",
       "      <td>1</td>\n",
       "      <td>0</td>\n",
       "      <td>1</td>\n",
       "      <td>0</td>\n",
       "      <td>1</td>\n",
       "    </tr>\n",
       "    <tr>\n",
       "      <th>4</th>\n",
       "      <td>26</td>\n",
       "      <td>0</td>\n",
       "      <td>2</td>\n",
       "      <td>1</td>\n",
       "      <td>0</td>\n",
       "      <td>2</td>\n",
       "      <td>348745</td>\n",
       "      <td>19321</td>\n",
       "      <td>1</td>\n",
       "      <td>0</td>\n",
       "      <td>1</td>\n",
       "      <td>1</td>\n",
       "      <td>1</td>\n",
       "    </tr>\n",
       "  </tbody>\n",
       "</table>\n",
       "</div>"
      ],
      "text/plain": [
       "   age gender education occupation organization_type seniority  annual_income  \\\n",
       "0   19      0         0          0                 0         0         186319   \n",
       "1   18      0         1          0                 0         0         277022   \n",
       "2   29      0         1          1                 0         1         348676   \n",
       "3   18      0         0          2                 0         0         165041   \n",
       "4   26      0         2          1                 0         2         348745   \n",
       "\n",
       "   disposable_income house_type vehicle_type marital_status  no_card  default  \n",
       "0              21625          0            0              1        0        1  \n",
       "1              20442          1            0              1        0        1  \n",
       "2              24404          1            0              1        1        1  \n",
       "3               2533          1            0              1        0        1  \n",
       "4              19321          1            0              1        1        1  "
      ]
     },
     "execution_count": 34,
     "metadata": {},
     "output_type": "execute_result"
    }
   ],
   "source": [
    "\"Map categorical values to float values\"\n",
    "\n",
    "warnings.simplefilter(\"ignore\")\n",
    "\n",
    "data.gender[data.gender == 'Male'] = 0\n",
    "data.gender[data.gender == 'Female'] = 1\n",
    "\n",
    "data.education[data.education == 'Graduate'] = 0\n",
    "data.education[data.education == 'Under Graduate'] = 1\n",
    "data.education[data.education == 'Post Graduate'] = 2\n",
    "data.education[data.education == 'Other'] = 3\n",
    "\n",
    "data.occupation[data.occupation == 'Professional'] = 0\n",
    "data.occupation[data.occupation == 'Salaried'] = 1\n",
    "data.occupation[data.occupation == 'Student'] = 2\n",
    "data.occupation[data.occupation == 'Business'] = 3\n",
    "\n",
    "data.organization_type[data.organization_type == 'None'] = 0\n",
    "data.organization_type[data.organization_type == 'Tier 1'] = 1\n",
    "data.organization_type[data.organization_type == 'Tier 2'] = 2\n",
    "data.organization_type[data.organization_type == 'Tier 3'] =3\n",
    "\n",
    "data.seniority[data.seniority == 'None'] = 0\n",
    "data.seniority[data.seniority == 'Entry'] = 1\n",
    "data.seniority[data.seniority == 'Mid-level 1'] = 2\n",
    "data.seniority[data.seniority == 'Junior'] = 3\n",
    "data.seniority[data.seniority == 'Mid-level 2'] = 4\n",
    "data.seniority[data.seniority == 'Senior'] = 5\n",
    "\n",
    "data.house_type[data.house_type == 'Family'] = 0\n",
    "data.house_type[data.house_type == 'Rented'] = 1\n",
    "data.house_type[data.house_type == 'Company provided'] = 2\n",
    "data.house_type[data.house_type == 'Owned'] = 3\n",
    "\n",
    "data.vehicle_type[data.vehicle_type == 'None'] = 0\n",
    "data.vehicle_type[data.vehicle_type == 'Two Wheeler'] = 1\n",
    "data.vehicle_type[data.vehicle_type == 'Four Wheeler'] = 2\n",
    "\n",
    "data.marital_status[data.marital_status == 'Single'] = 0\n",
    "data.marital_status[data.marital_status == 'Married'] = 1\n",
    "data.marital_status[data.marital_status == 'Other'] = 2\n",
    "\n",
    "data.head()"
   ]
  },
  {
   "cell_type": "code",
   "execution_count": 35,
   "metadata": {},
   "outputs": [
    {
     "data": {
      "text/plain": [
       "DecisionTreeClassifier(class_weight=None, criterion='entropy', max_depth=None,\n",
       "            max_features=None, max_leaf_nodes=None,\n",
       "            min_impurity_decrease=0.0, min_impurity_split=None,\n",
       "            min_samples_leaf=50, min_samples_split=2,\n",
       "            min_weight_fraction_leaf=0.0, presort=False, random_state=0,\n",
       "            splitter='best')"
      ]
     },
     "execution_count": 35,
     "metadata": {},
     "output_type": "execute_result"
    }
   ],
   "source": [
    "X = data.iloc[: , 0:11].values\n",
    "Y = data.iloc[: , 12].values\n",
    "\n",
    "\"Splitting the values to train set and test set\"\n",
    "\n",
    "X_train, X_test, y_train, y_test = train_test_split(X, Y, test_size=0.3, random_state=0)\n",
    "\n",
    "\"Define decision tree models with entropy criterion\"\n",
    "\n",
    "model = DecisionTreeClassifier(criterion=\"entropy\", random_state=0, min_samples_leaf=50)\n",
    "\n",
    "\"Fit the models\"\n",
    "\n",
    "model.fit(X_train, y_train)"
   ]
  },
  {
   "cell_type": "code",
   "execution_count": 36,
   "metadata": {},
   "outputs": [
    {
     "data": {
      "text/plain": [
       "array([0, 0, 0, ..., 0, 0, 0], dtype=int64)"
      ]
     },
     "execution_count": 36,
     "metadata": {},
     "output_type": "execute_result"
    }
   ],
   "source": [
    "y_pred = model.predict(X_test)\n",
    "y_pred"
   ]
  },
  {
   "cell_type": "code",
   "execution_count": 37,
   "metadata": {},
   "outputs": [
    {
     "name": "stdout",
     "output_type": "stream",
     "text": [
      "85.6691462049898\n"
     ]
    }
   ],
   "source": [
    "\"To find the accuracy of the model\"\n",
    "\n",
    "print(accuracy_score(y_test , y_pred)*100)"
   ]
  },
  {
   "cell_type": "code",
   "execution_count": null,
   "metadata": {},
   "outputs": [],
   "source": []
  }
 ],
 "metadata": {
  "kernelspec": {
   "display_name": "Python 3",
   "language": "python",
   "name": "python3"
  },
  "language_info": {
   "codemirror_mode": {
    "name": "ipython",
    "version": 3
   },
   "file_extension": ".py",
   "mimetype": "text/x-python",
   "name": "python",
   "nbconvert_exporter": "python",
   "pygments_lexer": "ipython3",
   "version": "3.7.3"
  }
 },
 "nbformat": 4,
 "nbformat_minor": 2
}
